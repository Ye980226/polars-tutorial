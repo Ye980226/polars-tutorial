{
 "cells": [
  {
   "cell_type": "markdown",
   "id": "bea616de-11ac-4b2e-89d5-5209bd3366a8",
   "metadata": {},
   "source": [
    "# 第二章 初识Polars"
   ]
  },
  {
   "cell_type": "markdown",
   "id": "343ae65a-2180-49c2-bbdc-a4329c08d0e7",
   "metadata": {},
   "source": [
    "## 一、介绍与对比"
   ]
  },
  {
   "cell_type": "markdown",
   "id": "21e411e0-51a0-47c7-855d-37cfd1c1e88e",
   "metadata": {},
   "source": [
    "&emsp;&emsp;Polars的目标是成为一个闪电般快速的数据帧库，利用机器上所有可用的内核。与dask等试图并行化numpy和pandas等现有单线程库的工具不同，polars是从头开始编写的，考虑到数据帧查询的并行化。它通过极大的努力来减少冗余拷贝，高效地遍历内存缓存，并在并行性中最小化争用。\n",
    "\n",
    "&emsp;&emsp;Polars有lazy和semi-lazy两种API。它可以让你快速地完成大部分工作，就像pandas一样，并且它确实为你提供了一个强大的表达式语法，可以在polars的查询引擎上进行优化和执行。\n",
    "\n",
    "&emsp;&emsp;在Lazy Polars中，我们可以对整个查询进行查询优化，进一步改善性能和内存压力。\n",
    "\n",
    "&emsp;&emsp;Polars会按逻辑计划跟踪您的查询。此计划在运行前经过优化和重新排序。当请求一个结果时，Polars会将可用的工作分配给不同的执行者，这些执行者使用eager API中可用的算法来生成结果。因为逻辑计划的优化器和执行者知道整个查询上下文，所以依赖于不同数据源的过程可以动态并行化。"
   ]
  },
  {
   "cell_type": "markdown",
   "id": "078de465-3187-446f-b544-68360d2e21ff",
   "metadata": {},
   "source": [
    "<div align=\"center\">\n",
    "    <img src=\"../docs/_images/ch02_api.svg\" width=\"30%\">\n",
    "</div>"
   ]
  },
  {
   "cell_type": "markdown",
   "id": "ba16e9ee-ff4b-4a0a-9dac-56dcaf74510e",
   "metadata": {},
   "source": [
    "&emsp;&emsp;Polars的速度非常快，事实上是目前性能最好的解决方案之一。参见`h2oai's db-benchmark`基准测试中的结果。"
   ]
  },
  {
   "cell_type": "markdown",
   "id": "003b6cd6-3e5e-4b89-89ad-f971591c0c09",
   "metadata": {},
   "source": [
    "<div align=\"center\">\n",
    "    <img src=\"../docs/_images/ch02_db-benchmark.png\" width=\"40%\">\n",
    "</div>"
   ]
  },
  {
   "cell_type": "markdown",
   "id": "92e4add6-3594-445b-8579-83aa074d6e39",
   "metadata": {},
   "source": [
    "## 二、快速开始\n",
    "下载`Polars`仅仅是用简单的`pip install`方式。所有二进制文件都是为Python v3.6+预先构建的"
   ]
  },
  {
   "cell_type": "code",
   "execution_count": 1,
   "id": "6b3d1677-3cc4-4bac-ac77-a5968ca61b89",
   "metadata": {},
   "outputs": [],
   "source": [
    "import polars as pl"
   ]
  },
  {
   "cell_type": "code",
   "execution_count": 2,
   "id": "a9fb42e9-4b3c-491c-bef9-c4c7e2003a5d",
   "metadata": {},
   "outputs": [
    {
     "name": "stdout",
     "output_type": "stream",
     "text": [
      "shape: (3, 5)\n",
      "┌─────────────────┬──────────────┬─────────────┬──────────────┬─────────────┐\n",
      "│ species         ┆ sepal_length ┆ sepal_width ┆ petal_length ┆ petal_width │\n",
      "│ ---             ┆ ---          ┆ ---         ┆ ---          ┆ ---         │\n",
      "│ str             ┆ f64          ┆ f64         ┆ f64          ┆ f64         │\n",
      "╞═════════════════╪══════════════╪═════════════╪══════════════╪═════════════╡\n",
      "│ Iris-versicolor ┆ 281.9        ┆ 131.8       ┆ 202.9        ┆ 63.3        │\n",
      "├╌╌╌╌╌╌╌╌╌╌╌╌╌╌╌╌╌┼╌╌╌╌╌╌╌╌╌╌╌╌╌╌┼╌╌╌╌╌╌╌╌╌╌╌╌╌┼╌╌╌╌╌╌╌╌╌╌╌╌╌╌┼╌╌╌╌╌╌╌╌╌╌╌╌╌┤\n",
      "│ Iris-setosa     ┆ 116.9        ┆ 81.7        ┆ 33.2         ┆ 6.1         │\n",
      "├╌╌╌╌╌╌╌╌╌╌╌╌╌╌╌╌╌┼╌╌╌╌╌╌╌╌╌╌╌╌╌╌┼╌╌╌╌╌╌╌╌╌╌╌╌╌┼╌╌╌╌╌╌╌╌╌╌╌╌╌╌┼╌╌╌╌╌╌╌╌╌╌╌╌╌┤\n",
      "│ Iris-virginica  ┆ 324.5        ┆ 146.2       ┆ 273.1        ┆ 99.6        │\n",
      "└─────────────────┴──────────────┴─────────────┴──────────────┴─────────────┘\n"
     ]
    }
   ],
   "source": [
    "# df = pl.read_csv(\"https://j.mp/iriscsv\")\n",
    "df = pl.read_csv(\"../data/iris.csv\")\n",
    "print(df.filter(pl.col(\"sepal_length\") > 5)\n",
    "      .groupby(\"species\")\n",
    "      .agg(pl.all().sum()))"
   ]
  },
  {
   "cell_type": "markdown",
   "id": "d2ad48ec-4536-4f10-8864-d33e31f2c1b4",
   "metadata": {},
   "source": [
    "正如我们所见，Polars可以漂亮地打印输出对象，包括列名和数据类型作为标题。"
   ]
  },
  {
   "cell_type": "markdown",
   "id": "0f412382-d68d-405e-b9e7-81ce54602edc",
   "metadata": {},
   "source": [
    "### 2.1 支持的数据类型\n",
    "&emsp;&emsp;polars完全基于Arrow数据类型，并由Arrow内存阵列支持。这使得数据处理缓存高效，并为进程间通信提供了良好的支持。除了Utf8（实际上是大的Utf8）、Category和Object（支持有限），大多数数据类型都遵循Arrow的精确实现。"
   ]
  },
  {
   "cell_type": "markdown",
   "id": "ae39a8f5-0d2c-4bd1-b3b0-dd26f2d1061a",
   "metadata": {},
   "source": [
    "数据类型包括：\n",
    "* Int8：8位有符号整数\n",
    "* Int16: 16位有符号整数\n",
    "* Int32: 32位有符号整数\n",
    "* Int64: 64位有符号整数\n",
    "* UInt8: 8位无符号整数\n",
    "* UInt16: 16位无符号整数\n",
    "* UInt32: 32位无符号整数\n",
    "* UInt64: 64位无符号整数\n",
    "* Float32：32位浮点数\n",
    "* Float64：64位浮点数\n",
    "* Boolean：布尔型有效位压缩\n",
    "* Utf8：字符串数据（内部实际上是Arrow LargeUtf8）。\n",
    "* List：列表数组包含包含列表值的子数组和偏移数组。（这实际上是Arrow LargeList内部的做法）。\n",
    "* Date：日期表示法，内部表示为自UNIX纪元以来的天数，由32位有符号整数编码。\n",
    "* Datetime：Datetime表示形式，内部表示为自UNIX epoch以来的纳秒，由64位有符号整数编码。\n",
    "* Duration：timedelate类型。在减去日期/日期时间时创建。\n",
    "* Time：时间表示法，从午夜开始在内部表示为纳秒。\n",
    "* Object：受支持的有限数据类型，可以是任何值。"
   ]
  },
  {
   "cell_type": "markdown",
   "id": "0dd20487-867b-4747-84cb-967e31f065d7",
   "metadata": {},
   "source": [
    "### 2.2 来自Pandas"
   ]
  },
  {
   "cell_type": "markdown",
   "id": "2f30bf3e-2eb4-4b91-b842-595e9dfe54af",
   "metadata": {},
   "source": [
    "### 2.3 来自Apache Spark"
   ]
  },
  {
   "cell_type": "markdown",
   "id": "506f3d9e-732f-4a31-89f2-19af730d5ed8",
   "metadata": {},
   "source": [
    "## 三、Lazy Polars & API\n",
    "如果我们想在Lazy Polars中运行这个查询，我们会写："
   ]
  },
  {
   "cell_type": "code",
   "execution_count": 3,
   "id": "c788d881-0006-4a55-a371-3e58b14af4f7",
   "metadata": {},
   "outputs": [
    {
     "name": "stdout",
     "output_type": "stream",
     "text": [
      "shape: (3, 5)\n",
      "┌─────────────────┬──────────────┬─────────────┬──────────────┬─────────────┐\n",
      "│ species         ┆ sepal_length ┆ sepal_width ┆ petal_length ┆ petal_width │\n",
      "│ ---             ┆ ---          ┆ ---         ┆ ---          ┆ ---         │\n",
      "│ str             ┆ f64          ┆ f64         ┆ f64          ┆ f64         │\n",
      "╞═════════════════╪══════════════╪═════════════╪══════════════╪═════════════╡\n",
      "│ Iris-versicolor ┆ 281.9        ┆ 131.8       ┆ 202.9        ┆ 63.3        │\n",
      "├╌╌╌╌╌╌╌╌╌╌╌╌╌╌╌╌╌┼╌╌╌╌╌╌╌╌╌╌╌╌╌╌┼╌╌╌╌╌╌╌╌╌╌╌╌╌┼╌╌╌╌╌╌╌╌╌╌╌╌╌╌┼╌╌╌╌╌╌╌╌╌╌╌╌╌┤\n",
      "│ Iris-virginica  ┆ 324.5        ┆ 146.2       ┆ 273.1        ┆ 99.6        │\n",
      "├╌╌╌╌╌╌╌╌╌╌╌╌╌╌╌╌╌┼╌╌╌╌╌╌╌╌╌╌╌╌╌╌┼╌╌╌╌╌╌╌╌╌╌╌╌╌┼╌╌╌╌╌╌╌╌╌╌╌╌╌╌┼╌╌╌╌╌╌╌╌╌╌╌╌╌┤\n",
      "│ Iris-setosa     ┆ 116.9        ┆ 81.7        ┆ 33.2         ┆ 6.1         │\n",
      "└─────────────────┴──────────────┴─────────────┴──────────────┴─────────────┘\n"
     ]
    }
   ],
   "source": [
    "print(\n",
    "    # pl.read_csv(\"https://j.mp/iriscsv\")\n",
    "    pl.read_csv(\"../data/iris.csv\")\n",
    "    .lazy()\n",
    "    .filter(pl.col(\"sepal_length\") > 5)\n",
    "    .groupby(\"species\")\n",
    "    .agg(pl.all().sum())\n",
    "    .collect()\n",
    ")"
   ]
  },
  {
   "cell_type": "markdown",
   "id": "1ad5a0e4-2f73-4781-be68-1276d7951fea",
   "metadata": {},
   "source": [
    "当数据未存储在互联网上时，我们也可以使用scan_csv以Lazy Polars运行查询。"
   ]
  },
  {
   "cell_type": "code",
   "execution_count": 4,
   "id": "f1af863b-c6cb-4347-a6ab-6c940586d9c4",
   "metadata": {},
   "outputs": [
    {
     "name": "stdout",
     "output_type": "stream",
     "text": [
      "shape: (3, 5)\n",
      "┌─────────────────┬──────────────┬─────────────┬──────────────┬─────────────┐\n",
      "│ species         ┆ sepal_length ┆ sepal_width ┆ petal_length ┆ petal_width │\n",
      "│ ---             ┆ ---          ┆ ---         ┆ ---          ┆ ---         │\n",
      "│ str             ┆ f64          ┆ f64         ┆ f64          ┆ f64         │\n",
      "╞═════════════════╪══════════════╪═════════════╪══════════════╪═════════════╡\n",
      "│ Iris-setosa     ┆ 116.9        ┆ 81.7        ┆ 33.2         ┆ 6.1         │\n",
      "├╌╌╌╌╌╌╌╌╌╌╌╌╌╌╌╌╌┼╌╌╌╌╌╌╌╌╌╌╌╌╌╌┼╌╌╌╌╌╌╌╌╌╌╌╌╌┼╌╌╌╌╌╌╌╌╌╌╌╌╌╌┼╌╌╌╌╌╌╌╌╌╌╌╌╌┤\n",
      "│ Iris-virginica  ┆ 324.5        ┆ 146.2       ┆ 273.1        ┆ 99.6        │\n",
      "├╌╌╌╌╌╌╌╌╌╌╌╌╌╌╌╌╌┼╌╌╌╌╌╌╌╌╌╌╌╌╌╌┼╌╌╌╌╌╌╌╌╌╌╌╌╌┼╌╌╌╌╌╌╌╌╌╌╌╌╌╌┼╌╌╌╌╌╌╌╌╌╌╌╌╌┤\n",
      "│ Iris-versicolor ┆ 281.9        ┆ 131.8       ┆ 202.9        ┆ 63.3        │\n",
      "└─────────────────┴──────────────┴─────────────┴──────────────┴─────────────┘\n"
     ]
    }
   ],
   "source": [
    "print(\n",
    "    pl.scan_csv(\"../data/iris.csv\")\n",
    "    .filter(pl.col(\"sepal_length\") > 5)\n",
    "    .groupby(\"species\")\n",
    "    .agg(pl.all().sum())\n",
    "    .collect()\n",
    ")"
   ]
  },
  {
   "cell_type": "markdown",
   "id": "42f3eae1-32db-4de1-ba30-bc3785c57cad",
   "metadata": {},
   "source": [
    "&emsp;&emsp;Lazy API构建了一个查询计划。除非明确要求Polars执行查询（通过`LazyFrame.collect()`或`LazyFrame.fetch()`），否则不会执行任何操作。这为Polars提供了查询的整个上下文，允许优化并在给定上下文的情况下选择最快的算法。\n",
    "从eager变为lazy通常很简单，只需从`.lazy()`开始并以`.collect()`结尾。因此，上面eager的片段将变成："
   ]
  },
  {
   "cell_type": "code",
   "execution_count": 5,
   "id": "a652841d-259a-4fe2-a2bc-6058b499a3b8",
   "metadata": {},
   "outputs": [
    {
     "name": "stdout",
     "output_type": "stream",
     "text": [
      "shape: (3, 5)\n",
      "┌─────────────────┬──────────────┬─────────────┬──────────────┬─────────────┐\n",
      "│ species         ┆ sepal_length ┆ sepal_width ┆ petal_length ┆ petal_width │\n",
      "│ ---             ┆ ---          ┆ ---         ┆ ---          ┆ ---         │\n",
      "│ str             ┆ f64          ┆ f64         ┆ f64          ┆ f64         │\n",
      "╞═════════════════╪══════════════╪═════════════╪══════════════╪═════════════╡\n",
      "│ Iris-setosa     ┆ 116.9        ┆ 81.7        ┆ 33.2         ┆ 6.1         │\n",
      "├╌╌╌╌╌╌╌╌╌╌╌╌╌╌╌╌╌┼╌╌╌╌╌╌╌╌╌╌╌╌╌╌┼╌╌╌╌╌╌╌╌╌╌╌╌╌┼╌╌╌╌╌╌╌╌╌╌╌╌╌╌┼╌╌╌╌╌╌╌╌╌╌╌╌╌┤\n",
      "│ Iris-versicolor ┆ 281.9        ┆ 131.8       ┆ 202.9        ┆ 63.3        │\n",
      "├╌╌╌╌╌╌╌╌╌╌╌╌╌╌╌╌╌┼╌╌╌╌╌╌╌╌╌╌╌╌╌╌┼╌╌╌╌╌╌╌╌╌╌╌╌╌┼╌╌╌╌╌╌╌╌╌╌╌╌╌╌┼╌╌╌╌╌╌╌╌╌╌╌╌╌┤\n",
      "│ Iris-virginica  ┆ 324.5        ┆ 146.2       ┆ 273.1        ┆ 99.6        │\n",
      "└─────────────────┴──────────────┴─────────────┴──────────────┴─────────────┘\n"
     ]
    }
   ],
   "source": [
    "print(\n",
    "    df.lazy()\n",
    "    .filter(pl.col(\"sepal_length\") > 5)\n",
    "    .groupby(\"species\")\n",
    "    .agg(pl.all().sum())\n",
    "    .collect()\n",
    ")"
   ]
  },
  {
   "cell_type": "code",
   "execution_count": null,
   "id": "91dddb53-90d7-4075-bffb-0de19d0f27be",
   "metadata": {},
   "outputs": [],
   "source": []
  }
 ],
 "metadata": {
  "kernelspec": {
   "display_name": "base",
   "language": "python",
   "name": "python3"
  },
  "language_info": {
   "codemirror_mode": {
    "name": "ipython",
    "version": 3
   },
   "file_extension": ".py",
   "mimetype": "text/x-python",
   "name": "python",
   "nbconvert_exporter": "python",
   "pygments_lexer": "ipython3",
   "version": "3.8.12"
  },
  "widgets": {
   "application/vnd.jupyter.widget-state+json": {
    "state": {},
    "version_major": 2,
    "version_minor": 0
   }
  }
 },
 "nbformat": 4,
 "nbformat_minor": 5
}
