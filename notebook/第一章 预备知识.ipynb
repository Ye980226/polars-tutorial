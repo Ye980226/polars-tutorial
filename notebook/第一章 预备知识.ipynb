{
 "cells": [
  {
   "cell_type": "markdown",
   "id": "61a0fd86-ec1d-47af-a971-6f7eb8d4d6bc",
   "metadata": {},
   "source": [
    "# 第一章 预备知识"
   ]
  },
  {
   "cell_type": "markdown",
   "id": "f1b168a5-7c2a-40cf-b93d-34681d9df4df",
   "metadata": {},
   "source": [
    "&emsp;&emsp;很多人在做Python工作环境下做数据处理工作时，经常会使用到Numpy与Pandas，但是随着社会信息流量越来越大，我们需要处理的数据量也会越来越大，Pandas在处理数据集上的优势逐渐消失。为此，本章节中我们介绍了Python与Numpy的常见用法，为后续章节介绍Polars这个由Rust底层驱动的大数据开源包作铺垫。"
   ]
  },
  {
   "cell_type": "markdown",
   "id": "9b1cd06c-68f1-4b28-a960-92ea09ac93fa",
   "metadata": {},
   "source": [
    "## 一、Python基础\n",
    "### 1.1 基础用法\n",
    "#### 1.1.1 编码与标识符\n",
    "默认情况下，Python 3源码文件以**UTF-8**编码，所有字符串都是unicode字符串。"
   ]
  },
  {
   "cell_type": "markdown",
   "id": "d5447823-10bc-45db-afb1-cdbf2adaacd2",
   "metadata": {},
   "source": [
    "`标识符`\n",
    "* 第一个字符必须是字母表中字母或下划线`_`\n",
    "* 标识符的其它部分由字母、数字和下划线组成\n",
    "* 标识符对大小写敏感"
   ]
  },
  {
   "cell_type": "code",
   "execution_count": 1,
   "id": "fe5c9247-62e1-4500-bcee-605abf539bec",
   "metadata": {},
   "outputs": [],
   "source": [
    "# 标识符举例\n",
    "_name = \"python\"\n",
    "Name = \"python\"\n",
    "name1 = \"python\"\n",
    "# 1name, 23name,  $name等就不行"
   ]
  },
  {
   "cell_type": "markdown",
   "id": "0bc3b895-9821-4f34-ad4c-09f4b9d5bff6",
   "metadata": {},
   "source": [
    "#### 1.1.2 Python保留字\n",
    "保留字即关键字，我们不能把它用作任何标识符名称。Python的标准库提供了一个keyword模块，可以输出当前版本所有关键字："
   ]
  },
  {
   "cell_type": "code",
   "execution_count": 2,
   "id": "ac52d6ec-5e61-48ce-aa76-f35928471b99",
   "metadata": {},
   "outputs": [
    {
     "data": {
      "text/plain": [
       "['False',\n",
       " 'None',\n",
       " 'True',\n",
       " 'and',\n",
       " 'as',\n",
       " 'assert',\n",
       " 'async',\n",
       " 'await',\n",
       " 'break',\n",
       " 'class',\n",
       " 'continue',\n",
       " 'def',\n",
       " 'del',\n",
       " 'elif',\n",
       " 'else',\n",
       " 'except',\n",
       " 'finally',\n",
       " 'for',\n",
       " 'from',\n",
       " 'global',\n",
       " 'if',\n",
       " 'import',\n",
       " 'in',\n",
       " 'is',\n",
       " 'lambda',\n",
       " 'nonlocal',\n",
       " 'not',\n",
       " 'or',\n",
       " 'pass',\n",
       " 'raise',\n",
       " 'return',\n",
       " 'try',\n",
       " 'while',\n",
       " 'with',\n",
       " 'yield']"
      ]
     },
     "execution_count": 2,
     "metadata": {},
     "output_type": "execute_result"
    }
   ],
   "source": [
    "# 当前Python版本内置的关键字\n",
    "import keyword\n",
    "keyword.kwlist"
   ]
  },
  {
   "cell_type": "markdown",
   "id": "2d16ce5d-ad62-4f4f-85f7-d7d1ecc77187",
   "metadata": {},
   "source": [
    "#### 1.1.3 注释、行与缩进\n",
    "Python中单行注释以`#`开头，实例如下："
   ]
  },
  {
   "cell_type": "code",
   "execution_count": 3,
   "id": "bdf6933f-61b5-4a24-a6f9-0dd555a1b075",
   "metadata": {},
   "outputs": [
    {
     "name": "stdout",
     "output_type": "stream",
     "text": [
      "Hello, Python!\n"
     ]
    }
   ],
   "source": [
    "# 第一个注释\n",
    "print(\"Hello, Python!\") # 第二个注释"
   ]
  },
  {
   "cell_type": "markdown",
   "id": "d966b803-1c2c-4ba5-b8aa-48f5ae642fbd",
   "metadata": {},
   "source": [
    "如果单行注释无法满足需求，可以采用多行注释的方法。可以用多个`#`号，还有`'''`和`\"\"\"`："
   ]
  },
  {
   "cell_type": "code",
   "execution_count": 4,
   "id": "1305d547-ae1e-419e-936b-adf82d343b01",
   "metadata": {},
   "outputs": [
    {
     "name": "stdout",
     "output_type": "stream",
     "text": [
      "Hello, Python!\n"
     ]
    }
   ],
   "source": [
    "'''\n",
    "打印输出一行指令\n",
    "'''\n",
    "\"\"\"\n",
    "指令的内容为\"Hello, Python!\"\n",
    "\"\"\"\n",
    "print(\"Hello, Python!\")"
   ]
  },
  {
   "cell_type": "markdown",
   "id": "fa6d03d7-c164-44a7-b394-6496e7fcbb1e",
   "metadata": {},
   "source": [
    "`行与缩进`：`Python`最具特色的就是使用缩进来表示代码块，不需要使用大括号`{}`，这一点与C等众多语言有所区别。缩进的空格数是可变的，但是同一个代码块必须包含相同的缩进空格数。实例如下："
   ]
  },
  {
   "cell_type": "code",
   "execution_count": 5,
   "id": "953d54ca-f3ec-49aa-a9a1-d12dee351c37",
   "metadata": {},
   "outputs": [
    {
     "name": "stdout",
     "output_type": "stream",
     "text": [
      "False\n"
     ]
    }
   ],
   "source": [
    "if False:\n",
    "    print(\"True\")\n",
    "else:\n",
    "    print(\"False\")"
   ]
  },
  {
   "cell_type": "markdown",
   "id": "656c8b1f-b828-42b8-bcac-65b164561501",
   "metadata": {},
   "source": [
    "以上程序由于缩进不一致，执行后会出现类似以下错误："
   ]
  },
  {
   "cell_type": "code",
   "execution_count": 7,
   "id": "9bd0b0d0-9100-453c-90ab-54f98f28ba6f",
   "metadata": {},
   "outputs": [
    {
     "ename": "IndentationError",
     "evalue": "unindent does not match any outer indentation level (<tokenize>, line 6)",
     "output_type": "error",
     "traceback": [
      "\u001b[1;36m  File \u001b[1;32m\"<tokenize>\"\u001b[1;36m, line \u001b[1;32m6\u001b[0m\n\u001b[1;33m    print(\"False\") # 缩进不一致，会导致运行错误\u001b[0m\n\u001b[1;37m    ^\u001b[0m\n\u001b[1;31mIndentationError\u001b[0m\u001b[1;31m:\u001b[0m unindent does not match any outer indentation level\n"
     ]
    }
   ],
   "source": [
    "if False:\n",
    "    print(\"Answer\")\n",
    "    print(\"True\")\n",
    "else:\n",
    "    print(\"Answer\")\n",
    "  print(\"False\") # 缩进不一致，会导致运行错误"
   ]
  },
  {
   "cell_type": "markdown",
   "id": "569c685a-8247-440d-8a15-3fb93c95f335",
   "metadata": {},
   "source": [
    "`多行语句`：Python通常是一行写完一条语句，但如果语句很长，我们可以使用反斜杠`\\`来实现多行语句，例如："
   ]
  },
  {
   "cell_type": "code",
   "execution_count": 12,
   "id": "bb7df4ab-c1fc-4432-a3db-6ec2712acb71",
   "metadata": {},
   "outputs": [
    {
     "data": {
      "text/plain": [
       "6"
      ]
     },
     "execution_count": 12,
     "metadata": {},
     "output_type": "execute_result"
    }
   ],
   "source": [
    "item_one = 1\n",
    "item_two = 2\n",
    "item_three = 3\n",
    "# 使用反斜杠换行\n",
    "total = item_one + \\\n",
    "        item_two + \\\n",
    "        item_three\n",
    "total"
   ]
  },
  {
   "cell_type": "code",
   "execution_count": null,
   "id": "fdc35083-541d-48f6-acde-9b68374b4b4d",
   "metadata": {},
   "outputs": [],
   "source": []
  },
  {
   "cell_type": "markdown",
   "id": "3c011143-ff09-4c80-9233-e04eda131e92",
   "metadata": {},
   "source": [
    "## 二、Numpy基础"
   ]
  },
  {
   "cell_type": "code",
   "execution_count": null,
   "id": "6327efbc-fd31-4031-91cf-85a4058a8b88",
   "metadata": {},
   "outputs": [],
   "source": []
  }
 ],
 "metadata": {
  "kernelspec": {
   "display_name": "base",
   "language": "python",
   "name": "python3"
  },
  "language_info": {
   "codemirror_mode": {
    "name": "ipython",
    "version": 3
   },
   "file_extension": ".py",
   "mimetype": "text/x-python",
   "name": "python",
   "nbconvert_exporter": "python",
   "pygments_lexer": "ipython3",
   "version": "3.8.12"
  },
  "widgets": {
   "application/vnd.jupyter.widget-state+json": {
    "state": {},
    "version_major": 2,
    "version_minor": 0
   }
  }
 },
 "nbformat": 4,
 "nbformat_minor": 5
}
